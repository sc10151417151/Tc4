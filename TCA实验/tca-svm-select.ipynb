{
 "cells": [
  {
   "cell_type": "code",
   "execution_count": 1,
   "metadata": {},
   "outputs": [],
   "source": [
    "# encoding=utf-8\n",
    "import numpy as np\n",
    "from sklearn import svm\n",
    "from sklearn import metrics\n",
    "from scipy import sparse\n",
    "import pandas as pd\n",
    "from pandas import Series, DataFrame\n",
    "from sklearn import neighbors\n",
    "from sklearn import tree  \n",
    "from sklearn import preprocessing\n",
    "from matplotlib import pyplot as plt\n",
    "import seaborn as sns\n",
    "from Tca import TCA\n",
    "from sklearn.preprocessing import StandardScaler\n",
    "from sklearn.model_selection import GridSearchCV as GSCV\n",
    "from sklearn.svm import SVC\n",
    "import warnings\n",
    "warnings.filterwarnings(\"ignore\")"
   ]
  },
  {
   "cell_type": "code",
   "execution_count": 2,
   "metadata": {},
   "outputs": [],
   "source": [
    "label_a = pd.read_csv(\"./data/label_all.csv\")\n",
    "label_a1 = label_a['SY']\n",
    "label_a2 = label_a['TY']\n",
    "S_Y_A = label_a1.values\n",
    "T_Y_A = label_a2.values\n",
    "label = pd.read_csv(\"./data/label_select.csv\")\n",
    "label1 = label['SY']\n",
    "label2 = label['TY']\n",
    "S_Y = label1.values\n",
    "T_Y = label2.values\n",
    "features_a = pd.read_csv(\"./data/feature_all.csv\")\n",
    "features_a = features_a.values\n",
    "S_X_A = features_a[:,0:4]\n",
    "T_X_A = features_a[:,4:8]\n",
    "features = pd.read_csv(\"./data/feature_select.csv\")\n",
    "features = features.values\n",
    "S_X = features[:,0:4]\n",
    "T_X = features[:,4:8]\n",
    "ss_X = StandardScaler()\n",
    "S_X = ss_X.fit_transform(S_X)\n",
    "T_X = ss_X.transform(T_X)\n",
    "T_X_A = ss_X.transform(T_X_A)\n",
    "S_X_A = ss_X.transform(S_X_A)"
   ]
  },
  {
   "cell_type": "code",
   "execution_count": 3,
   "metadata": {},
   "outputs": [],
   "source": [
    "S=np.concatenate((S_X,S_Y.reshape(-1,1)),axis=1)#样本和标签拼接\n",
    "T=np.concatenate((T_X,T_Y.reshape(-1,1)),axis=1)\n",
    "S_T=np.hstack((S,T))\n",
    "tca=TCA()\n",
    "S_X_tca, T_X_tca, T_X_O_tca=tca.fit_transform(S_X, T_X, T_X_A)\n",
    "accuracy1 = []\n",
    "kappa1=[]\n",
    "con_mat1=[]\n",
    "param1=[]"
   ]
  },
  {
   "cell_type": "code",
   "execution_count": 4,
   "metadata": {},
   "outputs": [],
   "source": [
    "from sklearn.svm import SVC\n",
    "def fit_grid_point_RBF(C, gamma, X_train, y_train, X_val, y_val):\n",
    "    SVC3 =  SVC( C = C, kernel='rbf', gamma = gamma)\n",
    "    SVC3 = SVC3.fit(X_train, y_train)\n",
    "    y_pred1 = SVC3.predict(X_val)\n",
    "    accuracy=metrics.accuracy_score(y_val, y_pred1)\n",
    "    kappa=metrics.cohen_kappa_score(y_val, y_pred1)\n",
    "    con_mat= metrics.confusion_matrix(y_val,y_pred1)\n",
    "    return accuracy, kappa, con_mat\n",
    "C_s = np.logspace(-2, 2, 5)\n",
    "gamma_s = np.logspace(-2, 2, 5) "
   ]
  },
  {
   "cell_type": "code",
   "execution_count": 5,
   "metadata": {},
   "outputs": [
    {
     "name": "stdout",
     "output_type": "stream",
     "text": [
      "accuracy [0.80016722] \n",
      " kappa   [0.72816495] \n",
      " conf_mat \n",
      " [[1121    0    0  265   33    6   31]\n",
      " [   0   48    0   17    0    0    0]\n",
      " [   1    0   50   36    0    0    1]\n",
      " [ 235    0    1 1879   78   74  366]\n",
      " [   6    0    0   68  470  112  163]\n",
      " [  19    0    0    6  153 4142  123]\n",
      " [  10    0    0    9  195  143  903]]\n"
     ]
    },
    {
     "data": {
      "image/png": "[encoded data removed]",
      "text/plain": [
       "<Figure size 432x288 with 1 Axes>"
      ]
     },
     "metadata": {},
     "output_type": "display_data"
    },
    {
     "name": "stdout",
     "output_type": "stream",
     "text": [
      "\n"
     ]
    }
   ],
   "source": [
    " \n",
    "for i, oneC in enumerate(C_s):\n",
    "    for j, gamma in enumerate(gamma_s):\n",
    "        tmp_acc,tmp_kappa,tmp_cm = fit_grid_point_RBF(oneC, gamma, S_X_tca.real,S_Y, T_X_O_tca.real, T_Y_A)\n",
    "        accuracy1.append(tmp_acc)\n",
    "        kappa1.append(tmp_kappa)\n",
    "        con_mat1.append(tmp_cm)\n",
    "        \n",
    "        param1.append([oneC,gamma])\n",
    "accuracy1 =np.array(accuracy1).reshape(len(C_s),len(gamma_s))\n",
    "row1,column1=np.where(accuracy1==accuracy1.max())\n",
    "kappa1 =np.array(kappa1).reshape(len(C_s),len(gamma_s))\n",
    "con_mat1=np.array(con_mat1).reshape(len(C_s),len(gamma_s),7,7)\n",
    "print('accuracy',\n",
    "      accuracy1[row1,column1],'\\n kappa  ',\n",
    "      kappa1[row1,column1],'\\n conf_mat \\n',\n",
    "      con_mat1[row1[0],column1[0]].reshape(7,7))\n",
    "x_axis = np.log10(C_s)\n",
    "for j, gamma in enumerate(gamma_s):\n",
    "    plt.plot(x_axis, np.array(accuracy1[:,j]), label = ' Test -(gamma)' + str(gamma))\n",
    "plt.legend()\n",
    "plt.xlabel( 'log(C)' )                                                                                                      \n",
    "plt.ylabel( 'accuracy' )\n",
    "plt.savefig('./pic/svm-tca-o.png' )\n",
    "plt.show()\n",
    "print()"
   ]
  },
  {
   "cell_type": "code",
   "execution_count": null,
   "metadata": {},
   "outputs": [],
   "source": []
  },
  {
   "cell_type": "code",
   "execution_count": null,
   "metadata": {},
   "outputs": [],
   "source": []
  }
 ],
 "metadata": {
  "kernelspec": {
   "display_name": "Python 3",
   "language": "python",
   "name": "python3"
  },
  "language_info": {
   "codemirror_mode": {
    "name": "ipython",
    "version": 3
   },
   "file_extension": ".py",
   "mimetype": "text/x-python",
   "name": "python",
   "nbconvert_exporter": "python",
   "pygments_lexer": "ipython3",
   "version": "3.6.6"
  }
 },
 "nbformat": 4,
 "nbformat_minor": 2
}
