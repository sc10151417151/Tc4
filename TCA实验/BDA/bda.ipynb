{
 "cells": [
  {
   "cell_type": "code",
   "execution_count": null,
   "metadata": {},
   "outputs": [],
   "source": [
    "import numpy as np\n",
    "class MyBDA :\n",
    "    def __init__(X_src,Y_src,X_tar,Y_tar,\n",
    "                 dim,bda_lambda=0.1,kernel='linear',gamma=1.0,T=10,mu=0.7,mode='bda'):\n",
    "        self.X=np.hstack((np.transpose(X_src),np.transpose(X_tar)))\n",
    "        self.x=np.dot(self.X,np.diag((1.0/(np.sqrt(np.sum(self.X*self.X,axis=0)))).reshape(-1)))\n",
    "        self.m=self.x.shape[0]\n",
    "        self.n=self.x.shape[1]\n",
    "        num_src =X_src.shape[0]\n",
    "        num_tar=X_tar.shape[0]\n",
    "        self.e=np.vstack((1/num_src*np.ones((num_src,1)),-1/num_tar*np.ones((num_tar,1))))\n",
    "        self.C=(np.unique(Y_src)).shape[0]\n",
    "        self.H = np.eye(n) - 1/n * (np.ones((n,n)))\n",
    "        self.M=np.dot(np.dot(e,e.reshape(1,-1)),C)\n",
    "        self.acc_ite = []\n",
    "        self.Y_tar_pseudo = []\n",
    "    def fit(self):\n",
    "        for i in range T :\n",
    "            N=0\n",
    "        '''\n",
    "        if ~isempty(Y_tar_pseudo) && length(Y_tar_pseudo)==nt\n",
    "            for c = reshape(unique(Y_src),1,C)\n",
    "                e = zeros(n,1);\n",
    "                if strcmp(mode,'W-BDA')\n",
    "                    Ns = length(Y_src(Y_src==c,:));\n",
    "                    Nt = length(Y_tar_pseudo(Y_tar_pseudo == c,:));\n",
    "                    Ps = Ns / length(Y_src);\n",
    "                    Pt = Nt / length(Y_tar_pseudo);\n",
    "                else\n",
    "                    Ps = 1;\n",
    "                    Pt = 1;\n",
    "                end\n",
    "                e(Y_src==c) = sqrt(Ps) / length(find(Y_src==c));\n",
    "                e(ns+find(Y_tar_pseudo==c)) = -sqrt(Pt) / length(find(Y_tar_pseudo==c));\n",
    "                e(isinf(e)) = 0;\n",
    "                N = N + e*e';\n",
    "            end\n",
    "        end '''\n",
    "            if (mu == 1):\n",
    "                mu = 0.999\n",
    "            M=(1-mu)\n",
    "            "
   ]
  },
  {
   "cell_type": "code",
   "execution_count": 1,
   "metadata": {},
   "outputs": [],
   "source": [
    "import numpy as np\n",
    "import pandas as pd\n",
    "from scipy import sparse\n",
    "label = pd.read_csv(\"../select_label.csv\")\n",
    "label1 = label['ID_1']\n",
    "label2 = label['ID_2']\n",
    "Y_src= label1.values\n",
    "Y_tar= label2.values\n",
    "features = pd.read_csv(\"../select_feature.csv\")\n",
    "features = features.values\n",
    "X_src= features[:,1:5]\n",
    "X_tar = features[:,5:9]"
   ]
  },
  {
   "cell_type": "code",
   "execution_count": 2,
   "metadata": {},
   "outputs": [],
   "source": [
    "X_src=np.array([[1 ,2 ,3],\n",
    "    [4 ,5, 6]])\n",
    "X_tar=np.array([[7,8, 9],\n",
    "   [ 10 ,11 ,12]])\n",
    "Y_src=np.array([[1],\n",
    "    [2]])"
   ]
  },
  {
   "cell_type": "code",
   "execution_count": 3,
   "metadata": {},
   "outputs": [],
   "source": [
    "X=np.hstack((np.transpose(X_src),np.transpose(X_tar)))"
   ]
  },
  {
   "cell_type": "code",
   "execution_count": 4,
   "metadata": {},
   "outputs": [],
   "source": [
    "x=np.dot(X,np.diag((1.0/(np.sqrt(np.sum(X*X,axis=0)))).reshape(-1)))"
   ]
  },
  {
   "cell_type": "code",
   "execution_count": 5,
   "metadata": {},
   "outputs": [],
   "source": [
    "m=x.shape[0]\n",
    "n=x.shape[1]"
   ]
  },
  {
   "cell_type": "code",
   "execution_count": 6,
   "metadata": {},
   "outputs": [],
   "source": [
    "num_src =X_src.shape[0]\n",
    "num_tar=X_tar.shape[0]\n"
   ]
  },
  {
   "cell_type": "code",
   "execution_count": 7,
   "metadata": {},
   "outputs": [
    {
     "data": {
      "text/plain": [
       "array([[0.5],\n",
       "       [0.5]])"
      ]
     },
     "execution_count": 7,
     "metadata": {},
     "output_type": "execute_result"
    }
   ],
   "source": [
    "1/num_src*np.ones((num_src,1))"
   ]
  },
  {
   "cell_type": "code",
   "execution_count": 8,
   "metadata": {},
   "outputs": [
    {
     "data": {
      "text/plain": [
       "array([[-0.5],\n",
       "       [-0.5]])"
      ]
     },
     "execution_count": 8,
     "metadata": {},
     "output_type": "execute_result"
    }
   ],
   "source": [
    "-1/num_tar*np.ones((num_tar,1))"
   ]
  },
  {
   "cell_type": "code",
   "execution_count": 9,
   "metadata": {},
   "outputs": [],
   "source": [
    "e=np.vstack((1/num_src*np.ones((num_src,1)),-1/num_tar*np.ones((num_tar,1))))"
   ]
  },
  {
   "cell_type": "code",
   "execution_count": 10,
   "metadata": {},
   "outputs": [],
   "source": [
    "C=(np.unique(Y_src)).shape[0]"
   ]
  },
  {
   "cell_type": "code",
   "execution_count": 11,
   "metadata": {},
   "outputs": [
    {
     "data": {
      "text/plain": [
       "array([[1., 0., 0., 0.],\n",
       "       [0., 1., 0., 0.],\n",
       "       [0., 0., 1., 0.],\n",
       "       [0., 0., 0., 1.]])"
      ]
     },
     "execution_count": 11,
     "metadata": {},
     "output_type": "execute_result"
    }
   ],
   "source": [
    "np.eye(n)"
   ]
  },
  {
   "cell_type": "code",
   "execution_count": 12,
   "metadata": {},
   "outputs": [],
   "source": [
    "H = np.eye(n) - 1/n * (np.ones((n,n)))"
   ]
  },
  {
   "cell_type": "code",
   "execution_count": 13,
   "metadata": {},
   "outputs": [],
   "source": [
    "M=np.dot(np.dot(e,e.reshape(1,-1)),C)"
   ]
  },
  {
   "cell_type": "code",
   "execution_count": 14,
   "metadata": {},
   "outputs": [
    {
     "data": {
      "text/plain": [
       "array([[ 0.5,  0.5, -0.5, -0.5],\n",
       "       [ 0.5,  0.5, -0.5, -0.5],\n",
       "       [-0.5, -0.5,  0.5,  0.5],\n",
       "       [-0.5, -0.5,  0.5,  0.5]])"
      ]
     },
     "execution_count": 14,
     "metadata": {},
     "output_type": "execute_result"
    }
   ],
   "source": [
    "M"
   ]
  },
  {
   "cell_type": "code",
   "execution_count": 4,
   "metadata": {},
   "outputs": [],
   "source": [
    "def kernel_bda(ker,gamma,X,X2=None):\n",
    "    if(ker=='rbf'):\n",
    "        nlsq=np.sum\n",
    "        \n",
    "        \n",
    "        \n",
    "    if(ker=='linear'):\n",
    "        if (X2==None):\n",
    "            K=np.dot(np.transpose(X),X)\n",
    "        else :\n",
    "            K=np.dot(np.transpose(X),X)"
   ]
  },
  {
   "cell_type": "code",
   "execution_count": 7,
   "metadata": {},
   "outputs": [],
   "source": [
    " X=[[1, 2, 3],\n",
    "[4 ,5, 6]]\n"
   ]
  },
  {
   "cell_type": "code",
   "execution_count": 10,
   "metadata": {},
   "outputs": [
    {
     "data": {
      "text/plain": [
       "array([[17, 22, 27],\n",
       "       [22, 29, 36],\n",
       "       [27, 36, 45]])"
      ]
     },
     "execution_count": 10,
     "metadata": {},
     "output_type": "execute_result"
    }
   ],
   "source": [
    "\n",
    "np.dot(np.transpose(X),X)"
   ]
  },
  {
   "cell_type": "code",
   "execution_count": null,
   "metadata": {},
   "outputs": [],
   "source": []
  }
 ],
 "metadata": {
  "kernelspec": {
   "display_name": "Python 3",
   "language": "python",
   "name": "python3"
  },
  "language_info": {
   "codemirror_mode": {
    "name": "ipython",
    "version": 3
   },
   "file_extension": ".py",
   "mimetype": "text/x-python",
   "name": "python",
   "nbconvert_exporter": "python",
   "pygments_lexer": "ipython3",
   "version": "3.6.6"
  }
 },
 "nbformat": 4,
 "nbformat_minor": 2
}
