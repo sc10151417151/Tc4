{
 "cells": [
  {
   "cell_type": "code",
   "execution_count": 1,
   "metadata": {},
   "outputs": [],
   "source": [
    "# encoding=utf-8\n",
    "import numpy as np\n",
    "from scipy import sparse\n",
    "import pandas as pd\n",
    "from pandas import Series, DataFrame\n",
    "import numpy as np\n",
    "from sklearn import svm\n",
    "from sklearn import neighbors\n",
    "from sklearn import tree  \n",
    "from sklearn import metrics\n",
    "from sklearn import preprocessing\n",
    "import math\n",
    "from matplotlib import pyplot as plt\n",
    "import seaborn as sns\n",
    "from sklearn.preprocessing import StandardScaler\n",
    "from sklearn.manifold import TSNE\n",
    "import warnings\n",
    "warnings.filterwarnings(\"ignore\")"
   ]
  },
  {
   "cell_type": "code",
   "execution_count": 2,
   "metadata": {},
   "outputs": [],
   "source": [
    "label_all = pd.read_csv(\"./data/label_all.csv\")\n",
    "label_a1 = label_all['SY']\n",
    "label_a2 = label_all['TY']\n",
    "S_Y_A = label_a1.values\n",
    "T_Y_A = label_a2.values\n",
    "label = pd.read_csv(\"./data/label_select.csv\")\n",
    "label1 = label['SY']\n",
    "label2 = label['TY']\n",
    "S_Y = label1.values\n",
    "T_Y = label2.values\n",
    "features_all = pd.read_csv(\"./data/feature_all.csv\")\n",
    "features_a = features_all.values\n",
    "S_X_A = features_a[:,0:4]\n",
    "T_X_A = features_a[:,4:8]\n",
    "features_select = pd.read_csv(\"./data/feature_select.csv\")\n",
    "features = features_select.values\n",
    "S_X = features[:,0:4]\n",
    "T_X = features[:,4:8]\n",
    "ss_X = StandardScaler()\n",
    "S_X = ss_X.fit_transform(S_X)\n",
    "T_X = ss_X.transform(T_X)\n",
    "T_X_A = ss_X.transform(T_X_A)\n",
    "S_X_A = ss_X.transform(S_X_A)"
   ]
  },
  {
   "cell_type": "code",
   "execution_count": 3,
   "metadata": {},
   "outputs": [],
   "source": [
    "d={1:'b',\n",
    "   2:'g',\n",
    "   3:'c',\n",
    "   4:'r',\n",
    "   5:'black',\n",
    "   6:'orange'\n",
    "}"
   ]
  },
  {
   "cell_type": "code",
   "execution_count": 4,
   "metadata": {},
   "outputs": [
    {
     "data": {
      "image/png": "[encoded data removed]",
      "text/plain": [
       "<Figure size 432x288 with 1 Axes>"
      ]
     },
     "metadata": {},
     "output_type": "display_data"
    }
   ],
   "source": [
    "tsneXs=TSNE(n_components=2).fit_transform(S_X_A)\n",
    "tsneXYs=np.hstack((tsneXs,S_Y_A.reshape(-1,1)))\n",
    "df_tsneXYs= pd.DataFrame({'one':tsneXYs[:,0],'two':tsneXYs[:,1],'label':tsneXYs[:,2]})\n",
    "for i in [1,2,3,4,5,6]:\n",
    "    plt.scatter(df_tsneXYs[['one']][df_tsneXYs.label==i],\n",
    "                df_tsneXYs[['two']][df_tsneXYs.label==i],\n",
    "                s=1,marker=',',c=d.get(i))\n",
    "#plt.axis([-2,5,-2,7])\n",
    "plt.show()"
   ]
  },
  {
   "cell_type": "code",
   "execution_count": 5,
   "metadata": {},
   "outputs": [
    {
     "data": {
      "text/html": [
       "<div>\n",
       "<style scoped>\n",
       "    .dataframe tbody tr th:only-of-type {\n",
       "        vertical-align: middle;\n",
       "    }\n",
       "\n",
       "    .dataframe tbody tr th {\n",
       "        vertical-align: top;\n",
       "    }\n",
       "\n",
       "    .dataframe thead th {\n",
       "        text-align: right;\n",
       "    }\n",
       "</style>\n",
       "<table border=\"1\" class=\"dataframe\">\n",
       "  <thead>\n",
       "    <tr style=\"text-align: right;\">\n",
       "      <th></th>\n",
       "      <th>S1</th>\n",
       "      <th>S2</th>\n",
       "      <th>S3</th>\n",
       "      <th>S4</th>\n",
       "    </tr>\n",
       "  </thead>\n",
       "  <tbody>\n",
       "    <tr>\n",
       "      <th>S1</th>\n",
       "      <td>1.000000</td>\n",
       "      <td>0.836657</td>\n",
       "      <td>0.698446</td>\n",
       "      <td>0.211712</td>\n",
       "    </tr>\n",
       "    <tr>\n",
       "      <th>S2</th>\n",
       "      <td>0.836657</td>\n",
       "      <td>1.000000</td>\n",
       "      <td>0.925594</td>\n",
       "      <td>0.230946</td>\n",
       "    </tr>\n",
       "    <tr>\n",
       "      <th>S3</th>\n",
       "      <td>0.698446</td>\n",
       "      <td>0.925594</td>\n",
       "      <td>1.000000</td>\n",
       "      <td>0.064261</td>\n",
       "    </tr>\n",
       "    <tr>\n",
       "      <th>S4</th>\n",
       "      <td>0.211712</td>\n",
       "      <td>0.230946</td>\n",
       "      <td>0.064261</td>\n",
       "      <td>1.000000</td>\n",
       "    </tr>\n",
       "  </tbody>\n",
       "</table>\n",
       "</div>"
      ],
      "text/plain": [
       "          S1        S2        S3        S4\n",
       "S1  1.000000  0.836657  0.698446  0.211712\n",
       "S2  0.836657  1.000000  0.925594  0.230946\n",
       "S3  0.698446  0.925594  1.000000  0.064261\n",
       "S4  0.211712  0.230946  0.064261  1.000000"
      ]
     },
     "execution_count": 5,
     "metadata": {},
     "output_type": "execute_result"
    }
   ],
   "source": [
    "features_all.iloc[:,0:4].corr()"
   ]
  },
  {
   "cell_type": "code",
   "execution_count": 6,
   "metadata": {},
   "outputs": [
    {
     "data": {
      "text/plain": [
       "<matplotlib.axes._subplots.AxesSubplot at 0x26e3343a320>"
      ]
     },
     "execution_count": 6,
     "metadata": {},
     "output_type": "execute_result"
    },
    {
     "data": {
      "image/png": "[encoded data removed]",
      "text/plain": [
       "<Figure size 432x288 with 2 Axes>"
      ]
     },
     "metadata": {},
     "output_type": "display_data"
    }
   ],
   "source": [
    "sns.heatmap(features_all.iloc[:,0:4].corr(),cmap='YlGnBu')"
   ]
  },
  {
   "cell_type": "code",
   "execution_count": 7,
   "metadata": {},
   "outputs": [
    {
     "data": {
      "image/png": "[encoded data removed]",
      "text/plain": [
       "<Figure size 432x288 with 1 Axes>"
      ]
     },
     "metadata": {},
     "output_type": "display_data"
    }
   ],
   "source": [
    "tsneXt=TSNE(n_components=2).fit_transform(T_X_A)\n",
    "tsneXYt=np.hstack((tsneXt,T_Y_A.reshape(-1,1)))\n",
    "df_tsneXYt= pd.DataFrame({'one':tsneXYt[:,0],'two':tsneXYt[:,1],'label':tsneXYt[:,2]})\n",
    "for i in [1,2,3,4,5,6]:\n",
    "    plt.scatter(df_tsneXYt[['one']][df_tsneXYt.label==i],\n",
    "                df_tsneXYt[['two']][df_tsneXYt.label==i],\n",
    "                s=1,marker=',',c=d.get(i))\n",
    "#plt.axis([-2,5,-2,7])\n",
    "plt.show()"
   ]
  },
  {
   "cell_type": "code",
   "execution_count": 8,
   "metadata": {},
   "outputs": [
    {
     "data": {
      "text/html": [
       "<div>\n",
       "<style scoped>\n",
       "    .dataframe tbody tr th:only-of-type {\n",
       "        vertical-align: middle;\n",
       "    }\n",
       "\n",
       "    .dataframe tbody tr th {\n",
       "        vertical-align: top;\n",
       "    }\n",
       "\n",
       "    .dataframe thead th {\n",
       "        text-align: right;\n",
       "    }\n",
       "</style>\n",
       "<table border=\"1\" class=\"dataframe\">\n",
       "  <thead>\n",
       "    <tr style=\"text-align: right;\">\n",
       "      <th></th>\n",
       "      <th>T1</th>\n",
       "      <th>T2</th>\n",
       "      <th>T3</th>\n",
       "      <th>T4</th>\n",
       "    </tr>\n",
       "  </thead>\n",
       "  <tbody>\n",
       "    <tr>\n",
       "      <th>T1</th>\n",
       "      <td>1.000000</td>\n",
       "      <td>0.860946</td>\n",
       "      <td>0.806365</td>\n",
       "      <td>-0.207083</td>\n",
       "    </tr>\n",
       "    <tr>\n",
       "      <th>T2</th>\n",
       "      <td>0.860946</td>\n",
       "      <td>1.000000</td>\n",
       "      <td>0.960984</td>\n",
       "      <td>-0.180607</td>\n",
       "    </tr>\n",
       "    <tr>\n",
       "      <th>T3</th>\n",
       "      <td>0.806365</td>\n",
       "      <td>0.960984</td>\n",
       "      <td>1.000000</td>\n",
       "      <td>-0.329398</td>\n",
       "    </tr>\n",
       "    <tr>\n",
       "      <th>T4</th>\n",
       "      <td>-0.207083</td>\n",
       "      <td>-0.180607</td>\n",
       "      <td>-0.329398</td>\n",
       "      <td>1.000000</td>\n",
       "    </tr>\n",
       "  </tbody>\n",
       "</table>\n",
       "</div>"
      ],
      "text/plain": [
       "          T1        T2        T3        T4\n",
       "T1  1.000000  0.860946  0.806365 -0.207083\n",
       "T2  0.860946  1.000000  0.960984 -0.180607\n",
       "T3  0.806365  0.960984  1.000000 -0.329398\n",
       "T4 -0.207083 -0.180607 -0.329398  1.000000"
      ]
     },
     "execution_count": 8,
     "metadata": {},
     "output_type": "execute_result"
    }
   ],
   "source": [
    "features_all.iloc[:,4:8].corr()"
   ]
  },
  {
   "cell_type": "code",
   "execution_count": 9,
   "metadata": {},
   "outputs": [
    {
     "data": {
      "text/plain": [
       "<matplotlib.axes._subplots.AxesSubplot at 0x26e334fda58>"
      ]
     },
     "execution_count": 9,
     "metadata": {},
     "output_type": "execute_result"
    },
    {
     "data": {
      "image/png": "[encoded data removed]",
      "text/plain": [
       "<Figure size 432x288 with 2 Axes>"
      ]
     },
     "metadata": {},
     "output_type": "display_data"
    }
   ],
   "source": [
    "sns.heatmap(features_all.iloc[:,4:8].corr(),cmap='YlGnBu')"
   ]
  }
 ],
 "metadata": {
  "kernelspec": {
   "display_name": "Python 3",
   "language": "python",
   "name": "python3"
  },
  "language_info": {
   "codemirror_mode": {
    "name": "ipython",
    "version": 3
   },
   "file_extension": ".py",
   "mimetype": "text/x-python",
   "name": "python",
   "nbconvert_exporter": "python",
   "pygments_lexer": "ipython3",
   "version": "3.6.6"
  }
 },
 "nbformat": 4,
 "nbformat_minor": 2
}
