{
 "cells": [
  {
   "cell_type": "code",
   "execution_count": 1,
   "metadata": {},
   "outputs": [],
   "source": [
    "# encoding=utf-8\n",
    "import numpy as np\n",
    "from scipy import sparse\n",
    "import pandas as pd\n",
    "from pandas import Series, DataFrame\n",
    "import numpy as np\n",
    "from sklearn import svm\n",
    "from sklearn import neighbors\n",
    "from sklearn import tree  \n",
    "from sklearn import metrics\n",
    "from sklearn import preprocessing\n",
    "import math\n",
    "from matplotlib import pyplot as plt\n",
    "import seaborn as sns\n",
    "from sklearn.preprocessing import StandardScaler\n",
    "from sklearn.manifold import TSNE\n",
    "import warnings\n",
    "warnings.filterwarnings(\"ignore\")"
   ]
  },
  {
   "cell_type": "code",
   "execution_count": 2,
   "metadata": {},
   "outputs": [],
   "source": [
    "label_all = pd.read_csv(\"./data/label_all.csv\")\n",
    "label_a1 = label_all['SY']\n",
    "label_a2 = label_all['TY']\n",
    "S_Y_A = label_a1.values\n",
    "T_Y_A = label_a2.values\n",
    "label = pd.read_csv(\"./data/label_select.csv\")\n",
    "label1 = label['SY']\n",
    "label2 = label['TY']\n",
    "S_Y = label1.values\n",
    "T_Y = label2.values\n",
    "features_all = pd.read_csv(\"./data/feature_all.csv\")\n",
    "features_a = features_all.values\n",
    "S_X_A = features_a[:,0:4]\n",
    "T_X_A = features_a[:,4:8]\n",
    "features_select = pd.read_csv(\"./data/feature_select.csv\")\n",
    "features = features_select.values\n",
    "S_X = features[:,0:4]\n",
    "T_X = features[:,4:8]\n",
    "ss_X = StandardScaler()\n",
    "S_X = ss_X.fit_transform(S_X)\n",
    "T_X = ss_X.transform(T_X)\n",
    "T_X_A = ss_X.transform(T_X_A)\n",
    "S_X_A = ss_X.transform(S_X_A)"
   ]
  },
  {
   "cell_type": "code",
   "execution_count": 3,
   "metadata": {},
   "outputs": [],
   "source": [
    "d={1:'b',\n",
    "   2:'g',\n",
    "   3:'c',\n",
    "   4:'r',\n",
    "   5:'black',\n",
    "   6:'orange'\n",
    "}"
   ]
  },
  {
   "cell_type": "code",
   "execution_count": 4,
   "metadata": {},
   "outputs": [],
   "source": [
    "from Tca import TCA\n",
    "tca=TCA()\n",
    "S_X_tca, T_X_tca, T_X_o_tca=tca.fit_transform(S_X, T_X, T_X_A )\n",
    "tsneXtca=TSNE(n_components=2).fit_transform(T_X_o_tca.real)\n",
    "tsneXYtca=np.hstack((tsneXtca,T_Y_A.reshape(-1,1)))\n"
   ]
  },
  {
   "cell_type": "code",
   "execution_count": 5,
   "metadata": {},
   "outputs": [
    {
     "data": {
      "image/png": "[encoded data removed]",
      "text/plain": [
       "<Figure size 432x288 with 1 Axes>"
      ]
     },
     "metadata": {},
     "output_type": "display_data"
    }
   ],
   "source": [
    "df_tsneXYtca= pd.DataFrame({'one':tsneXYtca[:,0],'two':tsneXYtca[:,1],'label':tsneXYtca[:,2]})\n",
    "for i in [1,2,3,4,5,6]:\n",
    "    plt.scatter(df_tsneXYtca[['one']][df_tsneXYtca.label==i],\n",
    "                df_tsneXYtca[['two']][df_tsneXYtca.label==i],\n",
    "                s=1,marker=',',c=d.get(i))\n",
    "#plt.axis([-2,5,-2,7])\n",
    "plt.show()"
   ]
  },
  {
   "cell_type": "code",
   "execution_count": 6,
   "metadata": {},
   "outputs": [
    {
     "data": {
      "text/html": [
       "<div>\n",
       "<style scoped>\n",
       "    .dataframe tbody tr th:only-of-type {\n",
       "        vertical-align: middle;\n",
       "    }\n",
       "\n",
       "    .dataframe tbody tr th {\n",
       "        vertical-align: top;\n",
       "    }\n",
       "\n",
       "    .dataframe thead th {\n",
       "        text-align: right;\n",
       "    }\n",
       "</style>\n",
       "<table border=\"1\" class=\"dataframe\">\n",
       "  <thead>\n",
       "    <tr style=\"text-align: right;\">\n",
       "      <th></th>\n",
       "      <th>b1</th>\n",
       "      <th>b2</th>\n",
       "      <th>b3</th>\n",
       "      <th>b4</th>\n",
       "    </tr>\n",
       "  </thead>\n",
       "  <tbody>\n",
       "    <tr>\n",
       "      <th>b1</th>\n",
       "      <td>1.000000</td>\n",
       "      <td>-0.125208</td>\n",
       "      <td>0.010092</td>\n",
       "      <td>0.232666</td>\n",
       "    </tr>\n",
       "    <tr>\n",
       "      <th>b2</th>\n",
       "      <td>-0.125208</td>\n",
       "      <td>1.000000</td>\n",
       "      <td>-0.288801</td>\n",
       "      <td>0.092654</td>\n",
       "    </tr>\n",
       "    <tr>\n",
       "      <th>b3</th>\n",
       "      <td>0.010092</td>\n",
       "      <td>-0.288801</td>\n",
       "      <td>1.000000</td>\n",
       "      <td>-0.153624</td>\n",
       "    </tr>\n",
       "    <tr>\n",
       "      <th>b4</th>\n",
       "      <td>0.232666</td>\n",
       "      <td>0.092654</td>\n",
       "      <td>-0.153624</td>\n",
       "      <td>1.000000</td>\n",
       "    </tr>\n",
       "  </tbody>\n",
       "</table>\n",
       "</div>"
      ],
      "text/plain": [
       "          b1        b2        b3        b4\n",
       "b1  1.000000 -0.125208  0.010092  0.232666\n",
       "b2 -0.125208  1.000000 -0.288801  0.092654\n",
       "b3  0.010092 -0.288801  1.000000 -0.153624\n",
       "b4  0.232666  0.092654 -0.153624  1.000000"
      ]
     },
     "execution_count": 6,
     "metadata": {},
     "output_type": "execute_result"
    }
   ],
   "source": [
    "df_tca_o = pd.DataFrame(data=T_X_o_tca.real, columns=['b1','b2','b3','b4'])\n",
    "df_tca_o.corr()"
   ]
  },
  {
   "cell_type": "code",
   "execution_count": 7,
   "metadata": {},
   "outputs": [
    {
     "data": {
      "text/plain": [
       "<matplotlib.axes._subplots.AxesSubplot at 0x1ec0008f518>"
      ]
     },
     "execution_count": 7,
     "metadata": {},
     "output_type": "execute_result"
    },
    {
     "data": {
      "image/png": "[encoded data removed]",
      "text/plain": [
       "<Figure size 432x288 with 2 Axes>"
      ]
     },
     "metadata": {},
     "output_type": "display_data"
    }
   ],
   "source": [
    "sns.heatmap(df_tca_o.corr(),cmap='YlGnBu')"
   ]
  },
  {
   "cell_type": "code",
   "execution_count": 8,
   "metadata": {},
   "outputs": [
    {
     "data": {
      "image/png": "[encoded data removed]",
      "text/plain": [
       "<Figure size 432x288 with 1 Axes>"
      ]
     },
     "metadata": {},
     "output_type": "display_data"
    }
   ],
   "source": [
    "tsneXsrc=TSNE(n_components=2).fit_transform(S_X_A)\n",
    "tsneXYsrc=np.hstack((tsneXsrc,S_Y_A.reshape(-1,1)))\n",
    "df_tsneXYsrc= pd.DataFrame({'one':tsneXYsrc[:,0],'two':tsneXYsrc[:,1],'label':tsneXYsrc[:,2]})\n",
    "for i in [1,2,3,4,5,6]:\n",
    "    plt.scatter(df_tsneXYsrc[['one']][df_tsneXYsrc.label==i],\n",
    "                df_tsneXYsrc[['two']][df_tsneXYsrc.label==i],\n",
    "                s=1,marker=',',c=d.get(i))\n",
    "#plt.axis([-2,5,-2,7])\n",
    "plt.show()"
   ]
  },
  {
   "cell_type": "code",
   "execution_count": 9,
   "metadata": {},
   "outputs": [
    {
     "data": {
      "text/html": [
       "<div>\n",
       "<style scoped>\n",
       "    .dataframe tbody tr th:only-of-type {\n",
       "        vertical-align: middle;\n",
       "    }\n",
       "\n",
       "    .dataframe tbody tr th {\n",
       "        vertical-align: top;\n",
       "    }\n",
       "\n",
       "    .dataframe thead th {\n",
       "        text-align: right;\n",
       "    }\n",
       "</style>\n",
       "<table border=\"1\" class=\"dataframe\">\n",
       "  <thead>\n",
       "    <tr style=\"text-align: right;\">\n",
       "      <th></th>\n",
       "      <th>b1</th>\n",
       "      <th>b2</th>\n",
       "      <th>b3</th>\n",
       "      <th>b4</th>\n",
       "    </tr>\n",
       "  </thead>\n",
       "  <tbody>\n",
       "    <tr>\n",
       "      <th>b1</th>\n",
       "      <td>1.000000</td>\n",
       "      <td>0.836657</td>\n",
       "      <td>0.698446</td>\n",
       "      <td>0.211712</td>\n",
       "    </tr>\n",
       "    <tr>\n",
       "      <th>b2</th>\n",
       "      <td>0.836657</td>\n",
       "      <td>1.000000</td>\n",
       "      <td>0.925594</td>\n",
       "      <td>0.230946</td>\n",
       "    </tr>\n",
       "    <tr>\n",
       "      <th>b3</th>\n",
       "      <td>0.698446</td>\n",
       "      <td>0.925594</td>\n",
       "      <td>1.000000</td>\n",
       "      <td>0.064261</td>\n",
       "    </tr>\n",
       "    <tr>\n",
       "      <th>b4</th>\n",
       "      <td>0.211712</td>\n",
       "      <td>0.230946</td>\n",
       "      <td>0.064261</td>\n",
       "      <td>1.000000</td>\n",
       "    </tr>\n",
       "  </tbody>\n",
       "</table>\n",
       "</div>"
      ],
      "text/plain": [
       "          b1        b2        b3        b4\n",
       "b1  1.000000  0.836657  0.698446  0.211712\n",
       "b2  0.836657  1.000000  0.925594  0.230946\n",
       "b3  0.698446  0.925594  1.000000  0.064261\n",
       "b4  0.211712  0.230946  0.064261  1.000000"
      ]
     },
     "execution_count": 9,
     "metadata": {},
     "output_type": "execute_result"
    }
   ],
   "source": [
    "df_src = pd.DataFrame(data=S_X_A, columns=['b1','b2','b3','b4'])\n",
    "df_src.corr()"
   ]
  },
  {
   "cell_type": "code",
   "execution_count": null,
   "metadata": {},
   "outputs": [],
   "source": []
  }
 ],
 "metadata": {
  "kernelspec": {
   "display_name": "Python 3",
   "language": "python",
   "name": "python3"
  },
  "language_info": {
   "codemirror_mode": {
    "name": "ipython",
    "version": 3
   },
   "file_extension": ".py",
   "mimetype": "text/x-python",
   "name": "python",
   "nbconvert_exporter": "python",
   "pygments_lexer": "ipython3",
   "version": "3.6.6"
  }
 },
 "nbformat": 4,
 "nbformat_minor": 2
}
